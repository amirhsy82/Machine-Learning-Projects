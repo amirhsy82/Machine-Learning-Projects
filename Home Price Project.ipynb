{
 "cells": [
  {
   "cell_type": "markdown",
   "id": "ff1f39ac",
   "metadata": {},
   "source": [
    "## Importing packages which are needed"
   ]
  },
  {
   "cell_type": "code",
   "execution_count": 1,
   "id": "86afd4dc",
   "metadata": {},
   "outputs": [],
   "source": [
    "import numpy as np\n",
    "import pandas as pd\n",
    "import matplotlib.pyplot as plt\n",
    "import pylab as pl"
   ]
  },
  {
   "cell_type": "code",
   "execution_count": 2,
   "id": "eccf25df",
   "metadata": {},
   "outputs": [
    {
     "data": {
      "text/html": [
       "<div>\n",
       "<style scoped>\n",
       "    .dataframe tbody tr th:only-of-type {\n",
       "        vertical-align: middle;\n",
       "    }\n",
       "\n",
       "    .dataframe tbody tr th {\n",
       "        vertical-align: top;\n",
       "    }\n",
       "\n",
       "    .dataframe thead th {\n",
       "        text-align: right;\n",
       "    }\n",
       "</style>\n",
       "<table border=\"1\" class=\"dataframe\">\n",
       "  <thead>\n",
       "    <tr style=\"text-align: right;\">\n",
       "      <th></th>\n",
       "      <th>Area</th>\n",
       "      <th>Room</th>\n",
       "      <th>Parking</th>\n",
       "      <th>Warehouse</th>\n",
       "      <th>Elevator</th>\n",
       "      <th>Address</th>\n",
       "      <th>Price</th>\n",
       "      <th>Price(USD)</th>\n",
       "    </tr>\n",
       "  </thead>\n",
       "  <tbody>\n",
       "    <tr>\n",
       "      <th>0</th>\n",
       "      <td>63</td>\n",
       "      <td>1</td>\n",
       "      <td>True</td>\n",
       "      <td>True</td>\n",
       "      <td>True</td>\n",
       "      <td>Shahran</td>\n",
       "      <td>1.850000e+09</td>\n",
       "      <td>61666.67</td>\n",
       "    </tr>\n",
       "    <tr>\n",
       "      <th>1</th>\n",
       "      <td>60</td>\n",
       "      <td>1</td>\n",
       "      <td>True</td>\n",
       "      <td>True</td>\n",
       "      <td>True</td>\n",
       "      <td>Shahran</td>\n",
       "      <td>1.850000e+09</td>\n",
       "      <td>61666.67</td>\n",
       "    </tr>\n",
       "    <tr>\n",
       "      <th>2</th>\n",
       "      <td>79</td>\n",
       "      <td>2</td>\n",
       "      <td>True</td>\n",
       "      <td>True</td>\n",
       "      <td>True</td>\n",
       "      <td>Pardis</td>\n",
       "      <td>5.500000e+08</td>\n",
       "      <td>18333.33</td>\n",
       "    </tr>\n",
       "    <tr>\n",
       "      <th>3</th>\n",
       "      <td>95</td>\n",
       "      <td>2</td>\n",
       "      <td>True</td>\n",
       "      <td>True</td>\n",
       "      <td>True</td>\n",
       "      <td>Shahrake Qods</td>\n",
       "      <td>9.025000e+08</td>\n",
       "      <td>30083.33</td>\n",
       "    </tr>\n",
       "    <tr>\n",
       "      <th>4</th>\n",
       "      <td>123</td>\n",
       "      <td>2</td>\n",
       "      <td>True</td>\n",
       "      <td>True</td>\n",
       "      <td>True</td>\n",
       "      <td>Shahrake Gharb</td>\n",
       "      <td>7.000000e+09</td>\n",
       "      <td>233333.33</td>\n",
       "    </tr>\n",
       "    <tr>\n",
       "      <th>5</th>\n",
       "      <td>70</td>\n",
       "      <td>2</td>\n",
       "      <td>True</td>\n",
       "      <td>True</td>\n",
       "      <td>False</td>\n",
       "      <td>North Program Organization</td>\n",
       "      <td>2.050000e+09</td>\n",
       "      <td>68333.33</td>\n",
       "    </tr>\n",
       "    <tr>\n",
       "      <th>6</th>\n",
       "      <td>87</td>\n",
       "      <td>2</td>\n",
       "      <td>True</td>\n",
       "      <td>True</td>\n",
       "      <td>True</td>\n",
       "      <td>Pardis</td>\n",
       "      <td>6.000000e+08</td>\n",
       "      <td>20000.00</td>\n",
       "    </tr>\n",
       "    <tr>\n",
       "      <th>7</th>\n",
       "      <td>59</td>\n",
       "      <td>1</td>\n",
       "      <td>True</td>\n",
       "      <td>True</td>\n",
       "      <td>True</td>\n",
       "      <td>Shahran</td>\n",
       "      <td>2.150000e+09</td>\n",
       "      <td>71666.67</td>\n",
       "    </tr>\n",
       "    <tr>\n",
       "      <th>8</th>\n",
       "      <td>54</td>\n",
       "      <td>2</td>\n",
       "      <td>True</td>\n",
       "      <td>True</td>\n",
       "      <td>False</td>\n",
       "      <td>Andisheh</td>\n",
       "      <td>4.930000e+08</td>\n",
       "      <td>16433.33</td>\n",
       "    </tr>\n",
       "    <tr>\n",
       "      <th>9</th>\n",
       "      <td>71</td>\n",
       "      <td>1</td>\n",
       "      <td>True</td>\n",
       "      <td>True</td>\n",
       "      <td>True</td>\n",
       "      <td>West Ferdows Boulevard</td>\n",
       "      <td>2.370000e+09</td>\n",
       "      <td>79000.00</td>\n",
       "    </tr>\n",
       "    <tr>\n",
       "      <th>10</th>\n",
       "      <td>68</td>\n",
       "      <td>2</td>\n",
       "      <td>True</td>\n",
       "      <td>True</td>\n",
       "      <td>True</td>\n",
       "      <td>West Ferdows Boulevard</td>\n",
       "      <td>2.450000e+09</td>\n",
       "      <td>81666.67</td>\n",
       "    </tr>\n",
       "    <tr>\n",
       "      <th>11</th>\n",
       "      <td>64</td>\n",
       "      <td>1</td>\n",
       "      <td>True</td>\n",
       "      <td>True</td>\n",
       "      <td>True</td>\n",
       "      <td>Narmak</td>\n",
       "      <td>2.100000e+09</td>\n",
       "      <td>70000.00</td>\n",
       "    </tr>\n",
       "    <tr>\n",
       "      <th>12</th>\n",
       "      <td>54</td>\n",
       "      <td>1</td>\n",
       "      <td>False</td>\n",
       "      <td>True</td>\n",
       "      <td>True</td>\n",
       "      <td>Narmak</td>\n",
       "      <td>1.690000e+09</td>\n",
       "      <td>56333.33</td>\n",
       "    </tr>\n",
       "    <tr>\n",
       "      <th>13</th>\n",
       "      <td>136</td>\n",
       "      <td>3</td>\n",
       "      <td>True</td>\n",
       "      <td>True</td>\n",
       "      <td>True</td>\n",
       "      <td>Saadat Abad</td>\n",
       "      <td>1.100000e+10</td>\n",
       "      <td>366666.67</td>\n",
       "    </tr>\n",
       "    <tr>\n",
       "      <th>14</th>\n",
       "      <td>95</td>\n",
       "      <td>2</td>\n",
       "      <td>True</td>\n",
       "      <td>True</td>\n",
       "      <td>True</td>\n",
       "      <td>Zafar</td>\n",
       "      <td>5.000000e+09</td>\n",
       "      <td>166666.67</td>\n",
       "    </tr>\n",
       "    <tr>\n",
       "      <th>15</th>\n",
       "      <td>63</td>\n",
       "      <td>1</td>\n",
       "      <td>False</td>\n",
       "      <td>True</td>\n",
       "      <td>False</td>\n",
       "      <td>Islamshahr</td>\n",
       "      <td>5.700000e+08</td>\n",
       "      <td>19000.00</td>\n",
       "    </tr>\n",
       "    <tr>\n",
       "      <th>16</th>\n",
       "      <td>155</td>\n",
       "      <td>3</td>\n",
       "      <td>True</td>\n",
       "      <td>True</td>\n",
       "      <td>True</td>\n",
       "      <td>Narmak</td>\n",
       "      <td>6.700000e+09</td>\n",
       "      <td>223333.33</td>\n",
       "    </tr>\n",
       "    <tr>\n",
       "      <th>17</th>\n",
       "      <td>64</td>\n",
       "      <td>2</td>\n",
       "      <td>False</td>\n",
       "      <td>True</td>\n",
       "      <td>False</td>\n",
       "      <td>Pirouzi</td>\n",
       "      <td>1.450000e+09</td>\n",
       "      <td>48333.33</td>\n",
       "    </tr>\n",
       "    <tr>\n",
       "      <th>18</th>\n",
       "      <td>140</td>\n",
       "      <td>3</td>\n",
       "      <td>True</td>\n",
       "      <td>True</td>\n",
       "      <td>True</td>\n",
       "      <td>West Ferdows Boulevard</td>\n",
       "      <td>6.400000e+09</td>\n",
       "      <td>213333.33</td>\n",
       "    </tr>\n",
       "    <tr>\n",
       "      <th>19</th>\n",
       "      <td>42</td>\n",
       "      <td>1</td>\n",
       "      <td>False</td>\n",
       "      <td>True</td>\n",
       "      <td>False</td>\n",
       "      <td>Pirouzi</td>\n",
       "      <td>1.390000e+09</td>\n",
       "      <td>46333.33</td>\n",
       "    </tr>\n",
       "    <tr>\n",
       "      <th>20</th>\n",
       "      <td>93</td>\n",
       "      <td>2</td>\n",
       "      <td>True</td>\n",
       "      <td>True</td>\n",
       "      <td>True</td>\n",
       "      <td>Shahrake Gharb</td>\n",
       "      <td>7.000000e+09</td>\n",
       "      <td>233333.33</td>\n",
       "    </tr>\n",
       "    <tr>\n",
       "      <th>21</th>\n",
       "      <td>87</td>\n",
       "      <td>2</td>\n",
       "      <td>True</td>\n",
       "      <td>True</td>\n",
       "      <td>True</td>\n",
       "      <td>Shahrake Shahid Bagheri</td>\n",
       "      <td>2.500000e+09</td>\n",
       "      <td>83333.33</td>\n",
       "    </tr>\n",
       "    <tr>\n",
       "      <th>22</th>\n",
       "      <td>65</td>\n",
       "      <td>1</td>\n",
       "      <td>True</td>\n",
       "      <td>True</td>\n",
       "      <td>True</td>\n",
       "      <td>Shahran</td>\n",
       "      <td>1.880000e+09</td>\n",
       "      <td>62666.67</td>\n",
       "    </tr>\n",
       "    <tr>\n",
       "      <th>23</th>\n",
       "      <td>99</td>\n",
       "      <td>2</td>\n",
       "      <td>True</td>\n",
       "      <td>True</td>\n",
       "      <td>True</td>\n",
       "      <td>Moniriyeh</td>\n",
       "      <td>2.277000e+09</td>\n",
       "      <td>75900.00</td>\n",
       "    </tr>\n",
       "    <tr>\n",
       "      <th>24</th>\n",
       "      <td>105</td>\n",
       "      <td>2</td>\n",
       "      <td>True</td>\n",
       "      <td>True</td>\n",
       "      <td>True</td>\n",
       "      <td>Saadat Abad</td>\n",
       "      <td>7.150000e+09</td>\n",
       "      <td>238333.33</td>\n",
       "    </tr>\n",
       "    <tr>\n",
       "      <th>25</th>\n",
       "      <td>160</td>\n",
       "      <td>3</td>\n",
       "      <td>True</td>\n",
       "      <td>True</td>\n",
       "      <td>True</td>\n",
       "      <td>Velenjak</td>\n",
       "      <td>1.494500e+10</td>\n",
       "      <td>498166.67</td>\n",
       "    </tr>\n",
       "    <tr>\n",
       "      <th>26</th>\n",
       "      <td>77</td>\n",
       "      <td>2</td>\n",
       "      <td>True</td>\n",
       "      <td>True</td>\n",
       "      <td>True</td>\n",
       "      <td>Amirieh</td>\n",
       "      <td>1.771000e+09</td>\n",
       "      <td>59033.33</td>\n",
       "    </tr>\n",
       "    <tr>\n",
       "      <th>27</th>\n",
       "      <td>123</td>\n",
       "      <td>2</td>\n",
       "      <td>True</td>\n",
       "      <td>True</td>\n",
       "      <td>True</td>\n",
       "      <td>Pirouzi</td>\n",
       "      <td>4.059000e+09</td>\n",
       "      <td>135300.00</td>\n",
       "    </tr>\n",
       "    <tr>\n",
       "      <th>28</th>\n",
       "      <td>110</td>\n",
       "      <td>2</td>\n",
       "      <td>True</td>\n",
       "      <td>True</td>\n",
       "      <td>True</td>\n",
       "      <td>Southern Janatabad</td>\n",
       "      <td>6.300000e+08</td>\n",
       "      <td>21000.00</td>\n",
       "    </tr>\n",
       "    <tr>\n",
       "      <th>29</th>\n",
       "      <td>100</td>\n",
       "      <td>2</td>\n",
       "      <td>True</td>\n",
       "      <td>True</td>\n",
       "      <td>True</td>\n",
       "      <td>West Ferdows Boulevard</td>\n",
       "      <td>3.200000e+09</td>\n",
       "      <td>106666.67</td>\n",
       "    </tr>\n",
       "    <tr>\n",
       "      <th>30</th>\n",
       "      <td>90</td>\n",
       "      <td>2</td>\n",
       "      <td>False</td>\n",
       "      <td>True</td>\n",
       "      <td>False</td>\n",
       "      <td>Salsabil</td>\n",
       "      <td>1.500000e+09</td>\n",
       "      <td>50000.00</td>\n",
       "    </tr>\n",
       "    <tr>\n",
       "      <th>31</th>\n",
       "      <td>49</td>\n",
       "      <td>1</td>\n",
       "      <td>True</td>\n",
       "      <td>True</td>\n",
       "      <td>True</td>\n",
       "      <td>West Ferdows Boulevard</td>\n",
       "      <td>2.200000e+09</td>\n",
       "      <td>73333.33</td>\n",
       "    </tr>\n",
       "    <tr>\n",
       "      <th>32</th>\n",
       "      <td>96</td>\n",
       "      <td>2</td>\n",
       "      <td>True</td>\n",
       "      <td>True</td>\n",
       "      <td>True</td>\n",
       "      <td>Zargandeh</td>\n",
       "      <td>7.872000e+09</td>\n",
       "      <td>262400.00</td>\n",
       "    </tr>\n",
       "    <tr>\n",
       "      <th>33</th>\n",
       "      <td>67</td>\n",
       "      <td>2</td>\n",
       "      <td>True</td>\n",
       "      <td>True</td>\n",
       "      <td>False</td>\n",
       "      <td>Feiz Garden</td>\n",
       "      <td>2.350000e+09</td>\n",
       "      <td>78333.33</td>\n",
       "    </tr>\n",
       "    <tr>\n",
       "      <th>34</th>\n",
       "      <td>68</td>\n",
       "      <td>2</td>\n",
       "      <td>True</td>\n",
       "      <td>True</td>\n",
       "      <td>True</td>\n",
       "      <td>West Ferdows Boulevard</td>\n",
       "      <td>2.500000e+09</td>\n",
       "      <td>83333.33</td>\n",
       "    </tr>\n",
       "    <tr>\n",
       "      <th>35</th>\n",
       "      <td>62</td>\n",
       "      <td>1</td>\n",
       "      <td>True</td>\n",
       "      <td>False</td>\n",
       "      <td>True</td>\n",
       "      <td>Water Organization</td>\n",
       "      <td>2.150000e+09</td>\n",
       "      <td>71666.67</td>\n",
       "    </tr>\n",
       "    <tr>\n",
       "      <th>36</th>\n",
       "      <td>55</td>\n",
       "      <td>1</td>\n",
       "      <td>True</td>\n",
       "      <td>True</td>\n",
       "      <td>True</td>\n",
       "      <td>West Ferdows Boulevard</td>\n",
       "      <td>2.150000e+09</td>\n",
       "      <td>71666.67</td>\n",
       "    </tr>\n",
       "    <tr>\n",
       "      <th>37</th>\n",
       "      <td>110</td>\n",
       "      <td>2</td>\n",
       "      <td>True</td>\n",
       "      <td>True</td>\n",
       "      <td>True</td>\n",
       "      <td>West Ferdows Boulevard</td>\n",
       "      <td>3.750000e+09</td>\n",
       "      <td>125000.00</td>\n",
       "    </tr>\n",
       "    <tr>\n",
       "      <th>38</th>\n",
       "      <td>129</td>\n",
       "      <td>2</td>\n",
       "      <td>True</td>\n",
       "      <td>True</td>\n",
       "      <td>True</td>\n",
       "      <td>West Ferdows Boulevard</td>\n",
       "      <td>5.250000e+09</td>\n",
       "      <td>175000.00</td>\n",
       "    </tr>\n",
       "    <tr>\n",
       "      <th>39</th>\n",
       "      <td>109</td>\n",
       "      <td>2</td>\n",
       "      <td>True</td>\n",
       "      <td>True</td>\n",
       "      <td>True</td>\n",
       "      <td>West Ferdows Boulevard</td>\n",
       "      <td>4.830000e+09</td>\n",
       "      <td>161000.00</td>\n",
       "    </tr>\n",
       "    <tr>\n",
       "      <th>40</th>\n",
       "      <td>58</td>\n",
       "      <td>1</td>\n",
       "      <td>True</td>\n",
       "      <td>True</td>\n",
       "      <td>True</td>\n",
       "      <td>Saadat Abad</td>\n",
       "      <td>3.400000e+09</td>\n",
       "      <td>113333.33</td>\n",
       "    </tr>\n",
       "    <tr>\n",
       "      <th>41</th>\n",
       "      <td>55</td>\n",
       "      <td>1</td>\n",
       "      <td>True</td>\n",
       "      <td>True</td>\n",
       "      <td>True</td>\n",
       "      <td>Saadat Abad</td>\n",
       "      <td>3.850000e+09</td>\n",
       "      <td>128333.33</td>\n",
       "    </tr>\n",
       "    <tr>\n",
       "      <th>42</th>\n",
       "      <td>150</td>\n",
       "      <td>2</td>\n",
       "      <td>False</td>\n",
       "      <td>True</td>\n",
       "      <td>True</td>\n",
       "      <td>Shahrake Qods</td>\n",
       "      <td>1.200000e+09</td>\n",
       "      <td>40000.00</td>\n",
       "    </tr>\n",
       "    <tr>\n",
       "      <th>43</th>\n",
       "      <td>60</td>\n",
       "      <td>2</td>\n",
       "      <td>True</td>\n",
       "      <td>True</td>\n",
       "      <td>True</td>\n",
       "      <td>NaN</td>\n",
       "      <td>2.650000e+09</td>\n",
       "      <td>88333.33</td>\n",
       "    </tr>\n",
       "    <tr>\n",
       "      <th>44</th>\n",
       "      <td>130</td>\n",
       "      <td>3</td>\n",
       "      <td>True</td>\n",
       "      <td>True</td>\n",
       "      <td>False</td>\n",
       "      <td>ShahrAra</td>\n",
       "      <td>5.000000e+09</td>\n",
       "      <td>166666.67</td>\n",
       "    </tr>\n",
       "    <tr>\n",
       "      <th>45</th>\n",
       "      <td>88</td>\n",
       "      <td>2</td>\n",
       "      <td>True</td>\n",
       "      <td>True</td>\n",
       "      <td>True</td>\n",
       "      <td>Gisha</td>\n",
       "      <td>4.750000e+09</td>\n",
       "      <td>158333.33</td>\n",
       "    </tr>\n",
       "    <tr>\n",
       "      <th>46</th>\n",
       "      <td>51</td>\n",
       "      <td>1</td>\n",
       "      <td>True</td>\n",
       "      <td>True</td>\n",
       "      <td>True</td>\n",
       "      <td>Gisha</td>\n",
       "      <td>2.980000e+09</td>\n",
       "      <td>99333.33</td>\n",
       "    </tr>\n",
       "    <tr>\n",
       "      <th>47</th>\n",
       "      <td>113</td>\n",
       "      <td>3</td>\n",
       "      <td>True</td>\n",
       "      <td>True</td>\n",
       "      <td>False</td>\n",
       "      <td>Shahrake Gharb</td>\n",
       "      <td>7.000000e+09</td>\n",
       "      <td>233333.33</td>\n",
       "    </tr>\n",
       "    <tr>\n",
       "      <th>48</th>\n",
       "      <td>110</td>\n",
       "      <td>2</td>\n",
       "      <td>True</td>\n",
       "      <td>True</td>\n",
       "      <td>True</td>\n",
       "      <td>Ray</td>\n",
       "      <td>2.035000e+09</td>\n",
       "      <td>67833.33</td>\n",
       "    </tr>\n",
       "    <tr>\n",
       "      <th>49</th>\n",
       "      <td>60</td>\n",
       "      <td>1</td>\n",
       "      <td>True</td>\n",
       "      <td>True</td>\n",
       "      <td>True</td>\n",
       "      <td>Abbasabad</td>\n",
       "      <td>2.460000e+09</td>\n",
       "      <td>82000.00</td>\n",
       "    </tr>\n",
       "  </tbody>\n",
       "</table>\n",
       "</div>"
      ],
      "text/plain": [
       "   Area  Room  Parking  Warehouse  Elevator                     Address  \\\n",
       "0    63     1     True       True      True                     Shahran   \n",
       "1    60     1     True       True      True                     Shahran   \n",
       "2    79     2     True       True      True                      Pardis   \n",
       "3    95     2     True       True      True               Shahrake Qods   \n",
       "4   123     2     True       True      True              Shahrake Gharb   \n",
       "5    70     2     True       True     False  North Program Organization   \n",
       "6    87     2     True       True      True                      Pardis   \n",
       "7    59     1     True       True      True                     Shahran   \n",
       "8    54     2     True       True     False                    Andisheh   \n",
       "9    71     1     True       True      True      West Ferdows Boulevard   \n",
       "10   68     2     True       True      True      West Ferdows Boulevard   \n",
       "11   64     1     True       True      True                      Narmak   \n",
       "12   54     1    False       True      True                      Narmak   \n",
       "13  136     3     True       True      True                 Saadat Abad   \n",
       "14   95     2     True       True      True                       Zafar   \n",
       "15   63     1    False       True     False                  Islamshahr   \n",
       "16  155     3     True       True      True                      Narmak   \n",
       "17   64     2    False       True     False                     Pirouzi   \n",
       "18  140     3     True       True      True      West Ferdows Boulevard   \n",
       "19   42     1    False       True     False                     Pirouzi   \n",
       "20   93     2     True       True      True              Shahrake Gharb   \n",
       "21   87     2     True       True      True     Shahrake Shahid Bagheri   \n",
       "22   65     1     True       True      True                     Shahran   \n",
       "23   99     2     True       True      True                   Moniriyeh   \n",
       "24  105     2     True       True      True                 Saadat Abad   \n",
       "25  160     3     True       True      True                    Velenjak   \n",
       "26   77     2     True       True      True                     Amirieh   \n",
       "27  123     2     True       True      True                     Pirouzi   \n",
       "28  110     2     True       True      True          Southern Janatabad   \n",
       "29  100     2     True       True      True      West Ferdows Boulevard   \n",
       "30   90     2    False       True     False                    Salsabil   \n",
       "31   49     1     True       True      True      West Ferdows Boulevard   \n",
       "32   96     2     True       True      True                   Zargandeh   \n",
       "33   67     2     True       True     False                 Feiz Garden   \n",
       "34   68     2     True       True      True      West Ferdows Boulevard   \n",
       "35   62     1     True      False      True          Water Organization   \n",
       "36   55     1     True       True      True      West Ferdows Boulevard   \n",
       "37  110     2     True       True      True      West Ferdows Boulevard   \n",
       "38  129     2     True       True      True      West Ferdows Boulevard   \n",
       "39  109     2     True       True      True      West Ferdows Boulevard   \n",
       "40   58     1     True       True      True                 Saadat Abad   \n",
       "41   55     1     True       True      True                 Saadat Abad   \n",
       "42  150     2    False       True      True               Shahrake Qods   \n",
       "43   60     2     True       True      True                         NaN   \n",
       "44  130     3     True       True     False                    ShahrAra   \n",
       "45   88     2     True       True      True                       Gisha   \n",
       "46   51     1     True       True      True                       Gisha   \n",
       "47  113     3     True       True     False              Shahrake Gharb   \n",
       "48  110     2     True       True      True                         Ray   \n",
       "49   60     1     True       True      True                   Abbasabad   \n",
       "\n",
       "           Price  Price(USD)  \n",
       "0   1.850000e+09    61666.67  \n",
       "1   1.850000e+09    61666.67  \n",
       "2   5.500000e+08    18333.33  \n",
       "3   9.025000e+08    30083.33  \n",
       "4   7.000000e+09   233333.33  \n",
       "5   2.050000e+09    68333.33  \n",
       "6   6.000000e+08    20000.00  \n",
       "7   2.150000e+09    71666.67  \n",
       "8   4.930000e+08    16433.33  \n",
       "9   2.370000e+09    79000.00  \n",
       "10  2.450000e+09    81666.67  \n",
       "11  2.100000e+09    70000.00  \n",
       "12  1.690000e+09    56333.33  \n",
       "13  1.100000e+10   366666.67  \n",
       "14  5.000000e+09   166666.67  \n",
       "15  5.700000e+08    19000.00  \n",
       "16  6.700000e+09   223333.33  \n",
       "17  1.450000e+09    48333.33  \n",
       "18  6.400000e+09   213333.33  \n",
       "19  1.390000e+09    46333.33  \n",
       "20  7.000000e+09   233333.33  \n",
       "21  2.500000e+09    83333.33  \n",
       "22  1.880000e+09    62666.67  \n",
       "23  2.277000e+09    75900.00  \n",
       "24  7.150000e+09   238333.33  \n",
       "25  1.494500e+10   498166.67  \n",
       "26  1.771000e+09    59033.33  \n",
       "27  4.059000e+09   135300.00  \n",
       "28  6.300000e+08    21000.00  \n",
       "29  3.200000e+09   106666.67  \n",
       "30  1.500000e+09    50000.00  \n",
       "31  2.200000e+09    73333.33  \n",
       "32  7.872000e+09   262400.00  \n",
       "33  2.350000e+09    78333.33  \n",
       "34  2.500000e+09    83333.33  \n",
       "35  2.150000e+09    71666.67  \n",
       "36  2.150000e+09    71666.67  \n",
       "37  3.750000e+09   125000.00  \n",
       "38  5.250000e+09   175000.00  \n",
       "39  4.830000e+09   161000.00  \n",
       "40  3.400000e+09   113333.33  \n",
       "41  3.850000e+09   128333.33  \n",
       "42  1.200000e+09    40000.00  \n",
       "43  2.650000e+09    88333.33  \n",
       "44  5.000000e+09   166666.67  \n",
       "45  4.750000e+09   158333.33  \n",
       "46  2.980000e+09    99333.33  \n",
       "47  7.000000e+09   233333.33  \n",
       "48  2.035000e+09    67833.33  \n",
       "49  2.460000e+09    82000.00  "
      ]
     },
     "execution_count": 2,
     "metadata": {},
     "output_type": "execute_result"
    }
   ],
   "source": [
    "df = pd.read_csv(r\"C:\\Users\\USER\\Desktop\\Machine Learning\\HomeProject.csv\")\n",
    "df.head(50)"
   ]
  },
  {
   "cell_type": "markdown",
   "id": "f7f04a23",
   "metadata": {},
   "source": [
    "There are too many wrong data in the dataset which should be removed. For example the row 43 we have a 'NaN' objet in \"Address\"."
   ]
  },
  {
   "cell_type": "code",
   "execution_count": 3,
   "id": "4997e1c8",
   "metadata": {},
   "outputs": [
    {
     "data": {
      "text/html": [
       "<div>\n",
       "<style scoped>\n",
       "    .dataframe tbody tr th:only-of-type {\n",
       "        vertical-align: middle;\n",
       "    }\n",
       "\n",
       "    .dataframe tbody tr th {\n",
       "        vertical-align: top;\n",
       "    }\n",
       "\n",
       "    .dataframe thead th {\n",
       "        text-align: right;\n",
       "    }\n",
       "</style>\n",
       "<table border=\"1\" class=\"dataframe\">\n",
       "  <thead>\n",
       "    <tr style=\"text-align: right;\">\n",
       "      <th></th>\n",
       "      <th>Area</th>\n",
       "      <th>Room</th>\n",
       "      <th>Parking</th>\n",
       "      <th>Warehouse</th>\n",
       "      <th>Elevator</th>\n",
       "      <th>Address</th>\n",
       "      <th>Price</th>\n",
       "      <th>Price(USD)</th>\n",
       "    </tr>\n",
       "  </thead>\n",
       "  <tbody>\n",
       "    <tr>\n",
       "      <th>0</th>\n",
       "      <td>63</td>\n",
       "      <td>1</td>\n",
       "      <td>True</td>\n",
       "      <td>True</td>\n",
       "      <td>True</td>\n",
       "      <td>Shahran</td>\n",
       "      <td>1.850000e+09</td>\n",
       "      <td>61666.67</td>\n",
       "    </tr>\n",
       "    <tr>\n",
       "      <th>1</th>\n",
       "      <td>60</td>\n",
       "      <td>1</td>\n",
       "      <td>True</td>\n",
       "      <td>True</td>\n",
       "      <td>True</td>\n",
       "      <td>Shahran</td>\n",
       "      <td>1.850000e+09</td>\n",
       "      <td>61666.67</td>\n",
       "    </tr>\n",
       "    <tr>\n",
       "      <th>2</th>\n",
       "      <td>79</td>\n",
       "      <td>2</td>\n",
       "      <td>True</td>\n",
       "      <td>True</td>\n",
       "      <td>True</td>\n",
       "      <td>Pardis</td>\n",
       "      <td>5.500000e+08</td>\n",
       "      <td>18333.33</td>\n",
       "    </tr>\n",
       "    <tr>\n",
       "      <th>3</th>\n",
       "      <td>95</td>\n",
       "      <td>2</td>\n",
       "      <td>True</td>\n",
       "      <td>True</td>\n",
       "      <td>True</td>\n",
       "      <td>Shahrake Qods</td>\n",
       "      <td>9.025000e+08</td>\n",
       "      <td>30083.33</td>\n",
       "    </tr>\n",
       "    <tr>\n",
       "      <th>4</th>\n",
       "      <td>123</td>\n",
       "      <td>2</td>\n",
       "      <td>True</td>\n",
       "      <td>True</td>\n",
       "      <td>True</td>\n",
       "      <td>Shahrake Gharb</td>\n",
       "      <td>7.000000e+09</td>\n",
       "      <td>233333.33</td>\n",
       "    </tr>\n",
       "  </tbody>\n",
       "</table>\n",
       "</div>"
      ],
      "text/plain": [
       "  Area  Room  Parking  Warehouse  Elevator         Address         Price  \\\n",
       "0   63     1     True       True      True         Shahran  1.850000e+09   \n",
       "1   60     1     True       True      True         Shahran  1.850000e+09   \n",
       "2   79     2     True       True      True          Pardis  5.500000e+08   \n",
       "3   95     2     True       True      True   Shahrake Qods  9.025000e+08   \n",
       "4  123     2     True       True      True  Shahrake Gharb  7.000000e+09   \n",
       "\n",
       "   Price(USD)  \n",
       "0    61666.67  \n",
       "1    61666.67  \n",
       "2    18333.33  \n",
       "3    30083.33  \n",
       "4   233333.33  "
      ]
     },
     "execution_count": 3,
     "metadata": {},
     "output_type": "execute_result"
    }
   ],
   "source": [
    "counter = 0\n",
    "for item in df.Address:\n",
    "    if str(item) == 'nan':\n",
    "        df.drop([counter], inplace=True)\n",
    "    counter += 1\n",
    "\n",
    "df.head()"
   ]
  },
  {
   "cell_type": "markdown",
   "id": "1cb8e5dc",
   "metadata": {},
   "source": [
    "Now I want to examie the correlations between variables using pandas library and plot a matrix for checking which variables have the most correlation."
   ]
  },
  {
   "cell_type": "code",
   "execution_count": 5,
   "id": "66d8d711",
   "metadata": {},
   "outputs": [],
   "source": [
    "cdf = df[['Area', 'Room', 'Parking', 'Warehouse', 'Elevator', 'Address']]"
   ]
  },
  {
   "cell_type": "code",
   "execution_count": 12,
   "id": "30a6fe16",
   "metadata": {},
   "outputs": [
    {
     "name": "stderr",
     "output_type": "stream",
     "text": [
      "C:\\Users\\USER\\AppData\\Local\\Temp\\ipykernel_5908\\488450418.py:1: FutureWarning: The default value of numeric_only in DataFrame.corr is deprecated. In a future version, it will default to False. Select only valid columns or specify the value of numeric_only to silence this warning.\n",
      "  cor = df.corr()\n"
     ]
    },
    {
     "data": {
      "image/png": "[encoded data removed]",
      "text/plain": [
       "<Figure size 640x480 with 2 Axes>"
      ]
     },
     "metadata": {},
     "output_type": "display_data"
    }
   ],
   "source": [
    "cor = df.corr()\n",
    "fig = plt.figure()\n",
    "ax = fig.add_subplot(111)\n",
    "cax = ax.matshow(cor, vmin=-1, vmax=1)\n",
    "fig.colorbar(cax)\n",
    "ticks = np.arange(0,6,1)\n",
    "ax.set_xticks(ticks)\n",
    "ax.set_yticks(ticks)\n",
    "ax.set_xticklabels(cdf)\n",
    "ax.set_yticklabels(cdf)\n",
    "plt.show()"
   ]
  },
  {
   "cell_type": "code",
   "execution_count": 13,
   "id": "743cb26a",
   "metadata": {},
   "outputs": [
    {
     "data": {
      "text/plain": [
       "<Axes: >"
      ]
     },
     "execution_count": 13,
     "metadata": {},
     "output_type": "execute_result"
    },
    {
     "data": {
      "image/png": "[encoded data removed]",
      "text/plain": [
       "<Figure size 640x480 with 2 Axes>"
      ]
     },
     "metadata": {},
     "output_type": "display_data"
    }
   ],
   "source": [
    "import seaborn as sns\n",
    "\n",
    "plt.figure()\n",
    "sns.heatmap(cor, annot=True)"
   ]
  },
  {
   "cell_type": "markdown",
   "id": "dde6f45b",
   "metadata": {},
   "source": [
    "I decide to remove some features in my new dataset like \"Elevator\", \"Warehouse\" and \"Parking\"."
   ]
  },
  {
   "cell_type": "code",
   "execution_count": 30,
   "id": "4cc508ce",
   "metadata": {},
   "outputs": [
    {
     "data": {
      "text/html": [
       "<div>\n",
       "<style scoped>\n",
       "    .dataframe tbody tr th:only-of-type {\n",
       "        vertical-align: middle;\n",
       "    }\n",
       "\n",
       "    .dataframe tbody tr th {\n",
       "        vertical-align: top;\n",
       "    }\n",
       "\n",
       "    .dataframe thead th {\n",
       "        text-align: right;\n",
       "    }\n",
       "</style>\n",
       "<table border=\"1\" class=\"dataframe\">\n",
       "  <thead>\n",
       "    <tr style=\"text-align: right;\">\n",
       "      <th></th>\n",
       "      <th>Area</th>\n",
       "      <th>Room</th>\n",
       "      <th>Address</th>\n",
       "      <th>Price</th>\n",
       "    </tr>\n",
       "  </thead>\n",
       "  <tbody>\n",
       "    <tr>\n",
       "      <th>807</th>\n",
       "      <td>1,000</td>\n",
       "      <td>2</td>\n",
       "      <td>Damavand</td>\n",
       "      <td>7.000000e+09</td>\n",
       "    </tr>\n",
       "    <tr>\n",
       "      <th>709</th>\n",
       "      <td>16,160,000,000</td>\n",
       "      <td>3</td>\n",
       "      <td>Pasdaran</td>\n",
       "      <td>1.616000e+10</td>\n",
       "    </tr>\n",
       "    <tr>\n",
       "      <th>2802</th>\n",
       "      <td>2,550,000,000</td>\n",
       "      <td>2</td>\n",
       "      <td>Central Janatabad</td>\n",
       "      <td>2.550000e+09</td>\n",
       "    </tr>\n",
       "    <tr>\n",
       "      <th>570</th>\n",
       "      <td>3,310,000,000</td>\n",
       "      <td>2</td>\n",
       "      <td>Ostad Moein</td>\n",
       "      <td>3.310000e+09</td>\n",
       "    </tr>\n",
       "    <tr>\n",
       "      <th>2171</th>\n",
       "      <td>3,600</td>\n",
       "      <td>2</td>\n",
       "      <td>Shahryar</td>\n",
       "      <td>9.720000e+09</td>\n",
       "    </tr>\n",
       "    <tr>\n",
       "      <th>1604</th>\n",
       "      <td>8,400,000,000</td>\n",
       "      <td>2</td>\n",
       "      <td>Gheitarieh</td>\n",
       "      <td>8.700000e+09</td>\n",
       "    </tr>\n",
       "    <tr>\n",
       "      <th>899</th>\n",
       "      <td>100</td>\n",
       "      <td>2</td>\n",
       "      <td>Shahr-e-Ziba</td>\n",
       "      <td>3.800000e+09</td>\n",
       "    </tr>\n",
       "    <tr>\n",
       "      <th>1846</th>\n",
       "      <td>100</td>\n",
       "      <td>2</td>\n",
       "      <td>Jeyhoon</td>\n",
       "      <td>2.300000e+09</td>\n",
       "    </tr>\n",
       "    <tr>\n",
       "      <th>900</th>\n",
       "      <td>100</td>\n",
       "      <td>2</td>\n",
       "      <td>East Ferdows Boulevard</td>\n",
       "      <td>3.500000e+09</td>\n",
       "    </tr>\n",
       "    <tr>\n",
       "      <th>1130</th>\n",
       "      <td>100</td>\n",
       "      <td>2</td>\n",
       "      <td>Shahr-e-Ziba</td>\n",
       "      <td>3.300000e+09</td>\n",
       "    </tr>\n",
       "  </tbody>\n",
       "</table>\n",
       "</div>"
      ],
      "text/plain": [
       "                  Area  Room                 Address         Price\n",
       "807             1,000      2                Damavand  7.000000e+09\n",
       "709    16,160,000,000      3                Pasdaran  1.616000e+10\n",
       "2802    2,550,000,000      2       Central Janatabad  2.550000e+09\n",
       "570     3,310,000,000      2             Ostad Moein  3.310000e+09\n",
       "2171            3,600      2                Shahryar  9.720000e+09\n",
       "1604    8,400,000,000      2              Gheitarieh  8.700000e+09\n",
       "899                100     2            Shahr-e-Ziba  3.800000e+09\n",
       "1846               100     2                 Jeyhoon  2.300000e+09\n",
       "900                100     2  East Ferdows Boulevard  3.500000e+09\n",
       "1130               100     2            Shahr-e-Ziba  3.300000e+09"
      ]
     },
     "execution_count": 30,
     "metadata": {},
     "output_type": "execute_result"
    }
   ],
   "source": [
    "cdf = df[['Area', 'Room','Address', 'Price']]\n",
    "cdf = cdf.sort_values(by=['Area'])\n",
    "cdf.head(10)"
   ]
  },
  {
   "cell_type": "markdown",
   "id": "597e2693",
   "metadata": {},
   "source": [
    "Now I should change the 'string' values to numbers because we can't work with categorical objects in dataset."
   ]
  },
  {
   "cell_type": "code",
   "execution_count": 31,
   "id": "6138c817",
   "metadata": {},
   "outputs": [
    {
     "data": {
      "text/html": [
       "<div>\n",
       "<style scoped>\n",
       "    .dataframe tbody tr th:only-of-type {\n",
       "        vertical-align: middle;\n",
       "    }\n",
       "\n",
       "    .dataframe tbody tr th {\n",
       "        vertical-align: top;\n",
       "    }\n",
       "\n",
       "    .dataframe thead th {\n",
       "        text-align: right;\n",
       "    }\n",
       "</style>\n",
       "<table border=\"1\" class=\"dataframe\">\n",
       "  <thead>\n",
       "    <tr style=\"text-align: right;\">\n",
       "      <th></th>\n",
       "      <th>Area</th>\n",
       "      <th>Room</th>\n",
       "      <th>Address</th>\n",
       "      <th>Price</th>\n",
       "    </tr>\n",
       "  </thead>\n",
       "  <tbody>\n",
       "    <tr>\n",
       "      <th>807</th>\n",
       "      <td>0</td>\n",
       "      <td>2</td>\n",
       "      <td>31</td>\n",
       "      <td>7.000000e+09</td>\n",
       "    </tr>\n",
       "    <tr>\n",
       "      <th>709</th>\n",
       "      <td>1</td>\n",
       "      <td>3</td>\n",
       "      <td>118</td>\n",
       "      <td>1.616000e+10</td>\n",
       "    </tr>\n",
       "    <tr>\n",
       "      <th>2802</th>\n",
       "      <td>2</td>\n",
       "      <td>2</td>\n",
       "      <td>26</td>\n",
       "      <td>2.550000e+09</td>\n",
       "    </tr>\n",
       "    <tr>\n",
       "      <th>570</th>\n",
       "      <td>3</td>\n",
       "      <td>2</td>\n",
       "      <td>111</td>\n",
       "      <td>3.310000e+09</td>\n",
       "    </tr>\n",
       "    <tr>\n",
       "      <th>2171</th>\n",
       "      <td>4</td>\n",
       "      <td>2</td>\n",
       "      <td>157</td>\n",
       "      <td>9.720000e+09</td>\n",
       "    </tr>\n",
       "    <tr>\n",
       "      <th>...</th>\n",
       "      <td>...</td>\n",
       "      <td>...</td>\n",
       "      <td>...</td>\n",
       "      <td>...</td>\n",
       "    </tr>\n",
       "    <tr>\n",
       "      <th>23</th>\n",
       "      <td>242</td>\n",
       "      <td>2</td>\n",
       "      <td>99</td>\n",
       "      <td>2.277000e+09</td>\n",
       "    </tr>\n",
       "    <tr>\n",
       "      <th>456</th>\n",
       "      <td>242</td>\n",
       "      <td>3</td>\n",
       "      <td>106</td>\n",
       "      <td>4.190000e+09</td>\n",
       "    </tr>\n",
       "    <tr>\n",
       "      <th>1528</th>\n",
       "      <td>242</td>\n",
       "      <td>2</td>\n",
       "      <td>122</td>\n",
       "      <td>4.200000e+09</td>\n",
       "    </tr>\n",
       "    <tr>\n",
       "      <th>1602</th>\n",
       "      <td>242</td>\n",
       "      <td>1</td>\n",
       "      <td>57</td>\n",
       "      <td>8.400000e+09</td>\n",
       "    </tr>\n",
       "    <tr>\n",
       "      <th>1988</th>\n",
       "      <td>242</td>\n",
       "      <td>2</td>\n",
       "      <td>68</td>\n",
       "      <td>4.900000e+09</td>\n",
       "    </tr>\n",
       "  </tbody>\n",
       "</table>\n",
       "<p>3456 rows × 4 columns</p>\n",
       "</div>"
      ],
      "text/plain": [
       "      Area  Room  Address         Price\n",
       "807      0     2       31  7.000000e+09\n",
       "709      1     3      118  1.616000e+10\n",
       "2802     2     2       26  2.550000e+09\n",
       "570      3     2      111  3.310000e+09\n",
       "2171     4     2      157  9.720000e+09\n",
       "...    ...   ...      ...           ...\n",
       "23     242     2       99  2.277000e+09\n",
       "456    242     3      106  4.190000e+09\n",
       "1528   242     2      122  4.200000e+09\n",
       "1602   242     1       57  8.400000e+09\n",
       "1988   242     2       68  4.900000e+09\n",
       "\n",
       "[3456 rows x 4 columns]"
      ]
     },
     "execution_count": 31,
     "metadata": {},
     "output_type": "execute_result"
    }
   ],
   "source": [
    "from sklearn.preprocessing import LabelEncoder\n",
    "def Encoder(df):\n",
    "        columns = list(df.select_dtypes(include=['category','object']))\n",
    "        Encode = LabelEncoder()\n",
    "        for feature in columns:\n",
    "            try:\n",
    "                df[feature] = Encode.fit_transform(df[feature])\n",
    "            except:\n",
    "                print('Error encoding '+feature)\n",
    "        return df\n",
    "    \n",
    "\n",
    "Encoder(cdf)"
   ]
  },
  {
   "cell_type": "code",
   "execution_count": 32,
   "id": "e3a3c6c3",
   "metadata": {},
   "outputs": [
    {
     "name": "stdout",
     "output_type": "stream",
     "text": [
      "[[0.000e+00 2.000e+00 3.100e+01 7.000e+09]\n",
      " [1.000e+00 3.000e+00 1.180e+02 1.616e+10]\n",
      " [2.000e+00 2.000e+00 2.600e+01 2.550e+09]\n",
      " [3.000e+00 2.000e+00 1.110e+02 3.310e+09]\n",
      " [4.000e+00 2.000e+00 1.570e+02 9.720e+09]\n",
      " [5.000e+00 2.000e+00 5.700e+01 8.700e+09]\n",
      " [6.000e+00 2.000e+00 1.460e+02 3.800e+09]\n",
      " [6.000e+00 2.000e+00 7.400e+01 2.300e+09]\n",
      " [6.000e+00 2.000e+00 4.000e+01 3.500e+09]\n",
      " [6.000e+00 2.000e+00 1.460e+02 3.300e+09]]\n"
     ]
    }
   ],
   "source": [
    "x = np.asarray(cdf)\n",
    "x = x[:-6]\n",
    "print(x[:10])\n"
   ]
  },
  {
   "cell_type": "code",
   "execution_count": 44,
   "id": "0ab6ff6b",
   "metadata": {},
   "outputs": [
    {
     "name": "stdout",
     "output_type": "stream",
     "text": [
      "[[1.850e+09]\n",
      " [1.850e+09]\n",
      " [5.500e+08]\n",
      " [9.025e+08]\n",
      " [7.000e+09]\n",
      " [2.050e+09]\n",
      " [6.000e+08]\n",
      " [2.150e+09]\n",
      " [4.930e+08]\n",
      " [2.370e+09]]\n"
     ]
    }
   ],
   "source": [
    "y = np.asarray(df[['Price']])\n",
    "print(y[0:10])\n"
   ]
  },
  {
   "cell_type": "markdown",
   "id": "45261b8d",
   "metadata": {},
   "source": [
    "It is important to normalize the dataset for better response: (All features together)"
   ]
  },
  {
   "cell_type": "code",
   "execution_count": 36,
   "id": "908bd063",
   "metadata": {},
   "outputs": [
    {
     "data": {
      "text/plain": [
       "array([[-1.67343956, -0.10703856, -1.46983896,  0.19949908],\n",
       "       [-1.66160909,  1.20942149,  0.25912086,  1.32750091],\n",
       "       [-1.64977862, -0.10703856, -1.56920447, -0.34849307],\n",
       "       [-1.63794815, -0.10703856,  0.12000915, -0.2549034 ],\n",
       "       [-1.62611769, -0.10703856,  1.03417181,  0.53445159]])"
      ]
     },
     "execution_count": 36,
     "metadata": {},
     "output_type": "execute_result"
    }
   ],
   "source": [
    "from sklearn import preprocessing\n",
    "x = preprocessing.StandardScaler().fit(x).transform(x)\n",
    "x[0:5]"
   ]
  },
  {
   "cell_type": "code",
   "execution_count": 72,
   "id": "d5c1deed",
   "metadata": {},
   "outputs": [],
   "source": [
    "mask = np.random.rand(len(df)) < 0.8\n",
    "train = cdf[mask]\n",
    "test = cdf[~mask]"
   ]
  },
  {
   "cell_type": "code",
   "execution_count": 71,
   "id": "1dee32ff",
   "metadata": {},
   "outputs": [
    {
     "name": "stdout",
     "output_type": "stream",
     "text": [
      "Train set: (2764, 4) (2764, 1)\n",
      "Test set: (692, 4) (692, 1)\n"
     ]
    }
   ],
   "source": [
    "# This is for multiple regression\n",
    "from sklearn.model_selection import train_test_split\n",
    "x_train, x_test, y_train, y_test = train_test_split( x, y, test_size=0.2, random_state=4)\n",
    "print ('Train set:', x_train.shape,  y_train.shape)\n",
    "print ('Test set:', x_test.shape,  y_test.shape)"
   ]
  },
  {
   "cell_type": "markdown",
   "id": "e2fd8366",
   "metadata": {},
   "source": [
    "## Simple Linear Regression"
   ]
  },
  {
   "cell_type": "markdown",
   "id": "c3fc5560",
   "metadata": {},
   "source": [
    "At first I will plot and examine all the features in my dataset:"
   ]
  },
  {
   "cell_type": "code",
   "execution_count": 74,
   "id": "9d6bb68f",
   "metadata": {},
   "outputs": [
    {
     "data": {
      "image/png": "[encoded data removed]",
      "text/plain": [
       "<Figure size 640x480 with 1 Axes>"
      ]
     },
     "metadata": {},
     "output_type": "display_data"
    }
   ],
   "source": [
    "# Area against Price\n",
    "plt.scatter(train.Area, train.Price, color='blue')\n",
    "plt.xlabel(\"Area\")\n",
    "plt.ylabel(\"Price(Rials)\")\n",
    "plt.show()"
   ]
  },
  {
   "cell_type": "code",
   "execution_count": 75,
   "id": "7550da21",
   "metadata": {},
   "outputs": [
    {
     "data": {
      "image/png": "[encoded data removed]",
      "text/plain": [
       "<Figure size 640x480 with 1 Axes>"
      ]
     },
     "metadata": {},
     "output_type": "display_data"
    }
   ],
   "source": [
    "# Address against Price \n",
    "plt.scatter(train.Address, train.Price, color='red')\n",
    "plt.xlabel(\"Address\")\n",
    "plt.ylabel(\"Price(Rials)\")\n",
    "plt.show()"
   ]
  },
  {
   "cell_type": "code",
   "execution_count": 76,
   "id": "ea547c28",
   "metadata": {},
   "outputs": [
    {
     "data": {
      "image/png": "[encoded data removed]",
      "text/plain": [
       "<Figure size 640x480 with 1 Axes>"
      ]
     },
     "metadata": {},
     "output_type": "display_data"
    }
   ],
   "source": [
    "# Room Against Price\n",
    "plt.scatter(train.Room, train.Price, color='green')\n",
    "plt.xlabel(\"Room\")\n",
    "plt.ylabel(\"Price(Rials)\")\n",
    "plt.show()"
   ]
  },
  {
   "cell_type": "markdown",
   "id": "01116a7b",
   "metadata": {},
   "source": [
    "### Modeling:"
   ]
  },
  {
   "cell_type": "markdown",
   "id": "d1fd1f78",
   "metadata": {},
   "source": [
    "Lets Model the linear regression for Area and Price:"
   ]
  },
  {
   "cell_type": "code",
   "execution_count": 79,
   "id": "bce81b38",
   "metadata": {},
   "outputs": [
    {
     "name": "stdout",
     "output_type": "stream",
     "text": [
      "Coefficients:  [[-21018401.05933874]]\n",
      "Intercept:  [8.4028327e+09]\n"
     ]
    }
   ],
   "source": [
    "# Area against Price\n",
    "from sklearn import linear_model\n",
    "regr = linear_model.LinearRegression()\n",
    "train_x = np.asanyarray(train[['Area']])\n",
    "train_y = np.asanyarray(train[['Price']])\n",
    "regr.fit (train_x, train_y)\n",
    "print ('Coefficients: ', regr.coef_)\n",
    "print ('Intercept: ',regr.intercept_)"
   ]
  },
  {
   "cell_type": "code",
   "execution_count": 81,
   "id": "97df2c41",
   "metadata": {},
   "outputs": [
    {
     "data": {
      "image/png": "[encoded data removed]",
      "text/plain": [
       "<Figure size 640x480 with 1 Axes>"
      ]
     },
     "metadata": {},
     "output_type": "display_data"
    }
   ],
   "source": [
    "plt.scatter(train.Area, train.Price,  color='blue')\n",
    "plt.plot(train_x, regr.coef_[0][0]*train_x + regr.intercept_[0], '-r')\n",
    "plt.xlabel(\"Area\")\n",
    "plt.ylabel(\"Price(Rials)\")\n",
    "plt.show()"
   ]
  },
  {
   "cell_type": "markdown",
   "id": "f595bb6c",
   "metadata": {},
   "source": [
    "### Evaluation of Model ( Area & Price)"
   ]
  },
  {
   "cell_type": "code",
   "execution_count": 82,
   "id": "2db15d17",
   "metadata": {},
   "outputs": [
    {
     "name": "stdout",
     "output_type": "stream",
     "text": [
      "Mean absolute error: 4081987852.2480\n",
      "Residual sum of squares (MSE): 60372187609125150720.0000\n",
      "R2-score: 0.0327\n"
     ]
    }
   ],
   "source": [
    "from sklearn.metrics import r2_score\n",
    "test_x = np.asanyarray(test[['Area']])\n",
    "test_y = np.asanyarray(test[['Price']])\n",
    "test_y_ = regr.predict(test_x)\n",
    "print(\"Mean absolute error: %.4f\" % np.mean(np.absolute(test_y_ - test_y)))\n",
    "print(\"Residual sum of squares (MSE): %.4f\" % np.mean((test_y_ - test_y) ** 2))\n",
    "print(\"R2-score: %.4f\" % r2_score(test_y , test_y_) )"
   ]
  },
  {
   "cell_type": "code",
   "execution_count": 84,
   "id": "1ff91b69",
   "metadata": {},
   "outputs": [
    {
     "name": "stdout",
     "output_type": "stream",
     "text": [
      "Coefficients:  [[-11654783.55201847]]\n",
      "Intercept:  [6.66072354e+09]\n"
     ]
    }
   ],
   "source": [
    "# Address against Price\n",
    "train_x = np.asanyarray(train[['Address']])\n",
    "train_y = np.asanyarray(train[['Price']])\n",
    "regr.fit (train_x, train_y)\n",
    "print ('Coefficients: ', regr.coef_)\n",
    "print ('Intercept: ',regr.intercept_)"
   ]
  },
  {
   "cell_type": "code",
   "execution_count": 85,
   "id": "ec0662da",
   "metadata": {},
   "outputs": [
    {
     "data": {
      "image/png": "[encoded data removed]",
      "text/plain": [
       "<Figure size 640x480 with 1 Axes>"
      ]
     },
     "metadata": {},
     "output_type": "display_data"
    }
   ],
   "source": [
    "plt.scatter(train.Address, train.Price,  color='red')\n",
    "plt.plot(train_x, regr.coef_[0][0]*train_x + regr.intercept_[0], '-k')\n",
    "plt.xlabel(\"Address\")\n",
    "plt.ylabel(\"Price(Rials)\")\n",
    "plt.show()"
   ]
  },
  {
   "cell_type": "markdown",
   "id": "5b8de2c4",
   "metadata": {},
   "source": [
    "### Evaluation of Model ( Address & Price ) :"
   ]
  },
  {
   "cell_type": "code",
   "execution_count": 86,
   "id": "1c592372",
   "metadata": {},
   "outputs": [
    {
     "name": "stdout",
     "output_type": "stream",
     "text": [
      "Mean absolute error: 4523131215.5827\n",
      "Residual sum of squares (MSE): 61959231644255526912.0000\n",
      "R2-score: 0.0073\n"
     ]
    }
   ],
   "source": [
    "test_x = np.asanyarray(test[['Address']])\n",
    "test_y = np.asanyarray(test[['Price']])\n",
    "test_y_ = regr.predict(test_x)\n",
    "print(\"Mean absolute error: %.4f\" % np.mean(np.absolute(test_y_ - test_y)))\n",
    "print(\"Residual sum of squares (MSE): %.4f\" % np.mean((test_y_ - test_y) ** 2))\n",
    "print(\"R2-score: %.4f\" % r2_score(test_y , test_y_))"
   ]
  },
  {
   "cell_type": "code",
   "execution_count": 87,
   "id": "2d3afc43",
   "metadata": {},
   "outputs": [
    {
     "name": "stdout",
     "output_type": "stream",
     "text": [
      "Coefficients:  [[6.00411993e+09]]\n",
      "Intercept:  [-7.10166459e+09]\n"
     ]
    }
   ],
   "source": [
    "# Room against Price\n",
    "train_x = np.asanyarray(train[['Room']])\n",
    "train_y = np.asanyarray(train[['Price']])\n",
    "regr.fit (train_x, train_y)\n",
    "print ('Coefficients: ', regr.coef_)\n",
    "print ('Intercept: ',regr.intercept_)"
   ]
  },
  {
   "cell_type": "code",
   "execution_count": 89,
   "id": "06ef7879",
   "metadata": {},
   "outputs": [
    {
     "data": {
      "image/png": "[encoded data removed]",
      "text/plain": [
       "<Figure size 640x480 with 1 Axes>"
      ]
     },
     "metadata": {},
     "output_type": "display_data"
    }
   ],
   "source": [
    "plt.scatter(train.Room, train.Price,  color='green')\n",
    "plt.plot(train_x, regr.coef_[0][0]*train_x + regr.intercept_[0], '-b')\n",
    "plt.xlabel(\"Room(s)\")\n",
    "plt.ylabel(\"Price(Rials)\")\n",
    "plt.show()"
   ]
  },
  {
   "cell_type": "markdown",
   "id": "ad505041",
   "metadata": {},
   "source": [
    "### Evaluation of Model ( Room & Price ) :"
   ]
  },
  {
   "cell_type": "code",
   "execution_count": 90,
   "id": "e306824c",
   "metadata": {},
   "outputs": [
    {
     "name": "stdout",
     "output_type": "stream",
     "text": [
      "Mean absolute error: 3805207767.3867\n",
      "Residual sum of squares (MSE): 38808586550612393984.0000\n",
      "R2-score: 0.3782\n"
     ]
    }
   ],
   "source": [
    "test_x = np.asanyarray(test[['Room']])\n",
    "test_y = np.asanyarray(test[['Price']])\n",
    "test_y_ = regr.predict(test_x)\n",
    "print(\"Mean absolute error: %.4f\" % np.mean(np.absolute(test_y_ - test_y)))\n",
    "print(\"Residual sum of squares (MSE): %.4f\" % np.mean((test_y_ - test_y) ** 2))\n",
    "print(\"R2-score: %.4f\" % r2_score(test_y , test_y_))"
   ]
  },
  {
   "cell_type": "markdown",
   "id": "ea8d0c70",
   "metadata": {},
   "source": [
    "## Multiple Linear Regression"
   ]
  },
  {
   "cell_type": "code",
   "execution_count": 77,
   "id": "eaefbba6",
   "metadata": {},
   "outputs": [
    {
     "name": "stdout",
     "output_type": "stream",
     "text": [
      "Coefficients:  [[-7.32221680e+08 -4.41609709e+08  6.00983919e+07  4.98592475e+08]]\n"
     ]
    }
   ],
   "source": [
    "regr.fit(x_train, y_train)\n",
    "print ('Coefficients: ', regr.coef_)"
   ]
  },
  {
   "cell_type": "code",
   "execution_count": 78,
   "id": "0de8b0d0",
   "metadata": {},
   "outputs": [
    {
     "name": "stdout",
     "output_type": "stream",
     "text": [
      "Residual Sum of Squares: 92900798670220410880.0000\n",
      "Variance Score of Train data: 0.0109\n",
      "Variance Score of Test data: 0.0019\n"
     ]
    }
   ],
   "source": [
    "yhat= regr.predict(x_test)\n",
    "print(\"Residual Sum of Squares: %.4f\" % np.mean((yhat - y_test ) ** 2))\n",
    "print('Variance Score of Train data: %.4f' % regr.score(x_train, y_train))\n",
    "print('Variance Score of Test data: %.4f' % regr.score(x_test, y_test))"
   ]
  }
 ],
 "metadata": {
  "kernelspec": {
   "display_name": "Python 3 (ipykernel)",
   "language": "python",
   "name": "python3"
  },
  "language_info": {
   "codemirror_mode": {
    "name": "ipython",
    "version": 3
   },
   "file_extension": ".py",
   "mimetype": "text/x-python",
   "name": "python",
   "nbconvert_exporter": "python",
   "pygments_lexer": "ipython3",
   "version": "3.11.1"
  }
 },
 "nbformat": 4,
 "nbformat_minor": 5
}
